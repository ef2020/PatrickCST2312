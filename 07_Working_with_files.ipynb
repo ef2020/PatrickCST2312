{
  "nbformat": 4,
  "nbformat_minor": 0,
  "metadata": {
    "colab": {
      "name": "07 Working with files.ipynb",
      "provenance": [],
      "authorship_tag": "ABX9TyNbFrrj+XRVgVbqi7gwiq5e"
    },
    "kernelspec": {
      "name": "python3",
      "display_name": "Python 3"
    },
    "language_info": {
      "name": "python"
    }
  },
  "cells": [
    {
      "cell_type": "markdown",
      "metadata": {
        "id": "gOX3ynb_fEGe"
      },
      "source": [
        "# **Reading** from the required textbook: ( [https://www.py4e.com/lessons/](https://www.py4e.com/lessons/))\n",
        "\n",
        "* [Working wiht files](https://www.py4e.com/lessons/files) (Chapter 8)\n",
        "\n",
        "Additional reading: \n",
        "\n",
        "* [Chapter 14](http://greenteapress.com/thinkpython2/html/thinkpython2015.html)\n",
        "\n",
        "* [Chapter 11](https://runestone.academy/runestone/books/published/thinkcspy/Files/toctree.html)\n"
      ]
    },
    {
      "cell_type": "markdown",
      "metadata": {
        "id": "RLUUuHf0fgWT"
      },
      "source": [
        "You'll often be reading data from a file, or writing the output of your python scripts back into a file. Python makes this very easy. You need to open a file in the appropriate mode, using the `open` function, then you can read or write to accomplish your task. The `open` function takes two arguments, the name of the file, and the mode. The mode is a single letter string that specifies if you're going to be reading from a file, writing to a file, or appending to the end of an existing file. The function returns a file object that performs the various tasks you'll be performing: `a_file = open(filename, mode)`. The modes are:\n",
        "\n",
        "+ `'r'`: open a file for reading\n",
        "+ `'w'`: open a file for writing. Caution: this will overwrite any previously existing file\n",
        "+ `'a'`: append. Write to the end of a file. \n",
        "\n",
        "When reading, you typically want to iterate through the lines in a file using a for loop, as above. Some other common methods for dealing with files are: \n",
        "\n",
        "+ `file.read()`: read the entire contents of a file into a string\n",
        "+ `file.write(some_string)`: writes to the file, note this doesn't automatically include any new lines. Also note that sometimes writes are buffered- python will wait until you have several writes pending, and perform them all at once\n",
        "+ `file.flush()`: write out any buffered writes\n",
        "+ `file.close()`: close the open file. This will free up some computer resources occupied by keeping a file open.\n",
        "\n",
        "Here is an example using files:"
      ]
    },
    {
      "cell_type": "markdown",
      "metadata": {
        "id": "nnToHSzPfrrr"
      },
      "source": [
        "#### Writing a file to disk\n",
        "\n",
        "You files will be stored locally for the duration of your Colab session: \n",
        "\n",
        "![Local Files](https://i.stack.imgur.com/ndEFx.png)\n",
        "\n",
        "![Local Files](https://miro.medium.com/max/1840/1*qYU0UZSayQj4peRiolAH3A.jpeg)\n",
        "\n",
        "Currently, there is no Hello.txt file stored locally. We will create is in a jiffy."
      ]
    },
    {
      "cell_type": "code",
      "metadata": {
        "id": "8gRPPv20XZff"
      },
      "source": [
        "# Create the file temp.txt, and get it ready for writing\n",
        "f = open(\"Hello.txt\", \"w\")\n",
        "f.write(\"Hello Google Colab!\\n\")\n",
        "f.write(\"CST 2312.\\n\")  \n",
        "f.close()"
      ],
      "execution_count": null,
      "outputs": []
    },
    {
      "cell_type": "markdown",
      "metadata": {
        "id": "KzQM64ZrU9uS"
      },
      "source": [
        "! in front of a command corresponds to a Shell command. More on this you can find [here](https://jakevdp.github.io/PythonDataScienceHandbook/01.05-ipython-and-shell-commands.html)."
      ]
    },
    {
      "cell_type": "code",
      "metadata": {
        "id": "R1JZfbvRXs3U"
      },
      "source": [
        "# Let's check that we did everything as expected\n",
        "!cat Hello.txt\n"
      ],
      "execution_count": null,
      "outputs": []
    },
    {
      "cell_type": "markdown",
      "metadata": {
        "id": "RyWE0JFaX_uN"
      },
      "source": [
        "What happens if there is no `\\n` at the end of the second text line?! Try it!"
      ]
    },
    {
      "cell_type": "code",
      "metadata": {
        "id": "XMJU0m8zfrrs"
      },
      "source": [
        "# Create the file temp.txt, and get it ready for writing\n",
        "f = open(\"temp.txt\", \"w\")\n",
        "f.write(\"This is my first file! The end!\\n\")\n",
        "f.write(\"Oh wait, I wanted to say something else.\")\n",
        "f.close()"
      ],
      "execution_count": null,
      "outputs": []
    },
    {
      "cell_type": "code",
      "metadata": {
        "id": "X708y4U3frrx"
      },
      "source": [
        "# Let's check that we did everything as expected\n",
        "!cat temp.txt"
      ],
      "execution_count": null,
      "outputs": []
    },
    {
      "cell_type": "code",
      "metadata": {
        "id": "K7EZ63llfrr2"
      },
      "source": [
        "# Create a file numbers.txt and write the numbers from 0 to 24 there\n",
        "f = open(\"numbers.txt\", \"w\")\n",
        "for num in range(25):\n",
        "    f.write(str(num) + \"\\n\")\n",
        "f.close()"
      ],
      "execution_count": null,
      "outputs": []
    },
    {
      "cell_type": "code",
      "metadata": {
        "id": "IVWmiM7hfrr7"
      },
      "source": [
        "# Let's check that we did everything as expected\n",
        "!cat numbers.txt"
      ],
      "execution_count": null,
      "outputs": []
    },
    {
      "cell_type": "markdown",
      "metadata": {
        "id": "bNR9ei8Kfrr-"
      },
      "source": [
        "#### Reading a file from disk"
      ]
    },
    {
      "cell_type": "code",
      "metadata": {
        "id": "8G7tkoVSfrr_"
      },
      "source": [
        "# We now open the file for reading\n",
        "f = open(\"temp.txt\", \"r\")\n",
        "# And we read the full content of the file in memory, as a big string\n",
        "content = f.read()\n",
        "f.close()"
      ],
      "execution_count": null,
      "outputs": []
    },
    {
      "cell_type": "code",
      "metadata": {
        "id": "Zwu-lAFwfrsC"
      },
      "source": [
        "content"
      ],
      "execution_count": null,
      "outputs": []
    },
    {
      "cell_type": "markdown",
      "metadata": {
        "id": "7EU23URLfrsG"
      },
      "source": [
        "Once we read the file, we have the lines in a big string. Let's process that big string a little bit:"
      ]
    },
    {
      "cell_type": "code",
      "metadata": {
        "id": "XXKxGsPrfrsH"
      },
      "source": [
        "# Read the file in the cell above, the content is in f2_content\n",
        "\n",
        "# Split the content of the file using the newline character \\n\n",
        "lines = content.split(\"\\n\")\n",
        "\n",
        "# Iterate through the line variable (it is a list of strings)\n",
        "# and then print the length of each line\n",
        "for line in lines:\n",
        "    print(line, \" ===> \", len(line))"
      ],
      "execution_count": null,
      "outputs": []
    },
    {
      "cell_type": "code",
      "metadata": {
        "id": "dQCnaOYEfrsL"
      },
      "source": [
        "# We now open the file for reading\n",
        "f = open(\"numbers.txt\", \"r\")\n",
        "# And we read the full content of the file in memory, as a big string\n",
        "content = f.read()\n",
        "f.close()\n",
        "content"
      ],
      "execution_count": null,
      "outputs": []
    },
    {
      "cell_type": "markdown",
      "metadata": {
        "id": "pe3Cu2ndfrsP"
      },
      "source": [
        "Once we read the file, we have the lines in a big string. Let's process that big string a little bit:"
      ]
    },
    {
      "cell_type": "code",
      "metadata": {
        "id": "SVyFDWRFfrsQ"
      },
      "source": [
        "lines = content.split(\"\\n\")  # we get back a list of strings\n",
        "print(lines)"
      ],
      "execution_count": null,
      "outputs": []
    },
    {
      "cell_type": "markdown",
      "metadata": {
        "id": "0rE8byENfrsb"
      },
      "source": [
        "####  Exercise 1\n",
        "\n",
        "* Write a function that reads a file and returns its content as a list of strings (one string per line). Read the file with filename `CityTechDepartmnets.txt`. (The `curl` command below will download the file from the GitHub repository and store it locally. Please execute the `curl` command before proceeding with attempting to read the file.)\n",
        "\n",
        "The list is obtained from the [CityTech list of Academic Departments](http://citytech.cuny.edu/academics/academic-departments.**aspx**)\n",
        "\n",
        "## Patrick, I think it will be best if you create your own GitHub account and start storing all the necessary files there.\n"
      ]
    },
    {
      "cell_type": "code",
      "metadata": {
        "id": "apEkHdjNft1U"
      },
      "source": [
        "!curl https://raw.githubusercontent.com/ef2020/PatrickCST2312/main/CityTechDepartmnets.txt -o CityTechDepartmnets.txt"
      ],
      "execution_count": null,
      "outputs": []
    },
    {
      "cell_type": "code",
      "metadata": {
        "id": "hDjY4Ryedtmd"
      },
      "source": [
        "!cat CityTechDepartmnets.txt"
      ],
      "execution_count": null,
      "outputs": []
    },
    {
      "cell_type": "code",
      "metadata": {
        "id": "D7qu4kwmZA8E"
      },
      "source": [
        "# Your solution here"
      ],
      "execution_count": null,
      "outputs": []
    },
    {
      "cell_type": "code",
      "metadata": {
        "id": "EdocT3DeeHGk"
      },
      "source": [
        "f = open(\"CityTechDepartmnets.txt\", \"r\")\n",
        "content = f.read()\n",
        "f.close()\n",
        "print (content)"
      ],
      "execution_count": null,
      "outputs": []
    },
    {
      "cell_type": "markdown",
      "metadata": {
        "id": "dA0aP1wXZEc1"
      },
      "source": [
        "#### Solution"
      ]
    },
    {
      "cell_type": "code",
      "metadata": {
        "id": "nLGCx9iQfrsc"
      },
      "source": [
        "f = open(\"CityTechDepartmnets.txt\", \"r\")\n",
        "content = f.read()\n",
        "f.close()\n",
        "content"
      ],
      "execution_count": null,
      "outputs": []
    },
    {
      "cell_type": "markdown",
      "metadata": {
        "id": "4ZSBpRn_frsf"
      },
      "source": [
        "####  Exercise 2\n",
        "\n",
        "* Write a function that reads the n-th column of a CSV file and returns its contents. (Reuse the function that you wrote above.) \n",
        "\n",
        "## Patrick, use here any CSV file that is of interst to you.\n",
        "If you like basketball, you can use a .CSV file from here: https://github.com/sivabalanb/Data-Analysis-with-Pandas-and-Python/blob/master/nba.csv\n"
      ]
    }
  ]
}