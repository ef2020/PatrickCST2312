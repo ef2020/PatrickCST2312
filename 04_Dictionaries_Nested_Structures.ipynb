{
  "nbformat": 4,
  "nbformat_minor": 0,
  "metadata": {
    "colab": {
      "name": "04 Dictionaries_Nested_Structures.ipynb",
      "provenance": [],
      "collapsed_sections": [],
      "authorship_tag": "ABX9TyNMrVapFlIBUC3oSkEk4b14"
    },
    "kernelspec": {
      "name": "python3",
      "display_name": "Python 3"
    },
    "language_info": {
      "name": "python"
    }
  },
  "cells": [
    {
      "cell_type": "markdown",
      "metadata": {
        "id": "fhPT7qWSvTa9"
      },
      "source": [
        "# **Reading** from the required textbook: ( [https://www.py4e.com/lessons/](https://www.py4e.com/lessons/))\n",
        "\n",
        "[Dictionaries](https://www.py4e.com/lessons/dictionary) (Chapter 10)\n"
      ]
    },
    {
      "cell_type": "markdown",
      "metadata": {
        "id": "G0brMO880BlV"
      },
      "source": [
        "# Combining (Nesting) Data Structures:"
      ]
    },
    {
      "cell_type": "markdown",
      "metadata": {
        "id": "Bv1pkPgX0BlV"
      },
      "source": [
        "So far, we have examined complex data structures (lists, sets, dictionaries) that contain \"scalar\" values (integers, strings, boolean, etc). \n",
        "\n",
        "In reality, we can store any type of value in these data structures.\n",
        "\n",
        "Consider the case of the following dictionary:\n"
      ]
    },
    {
      "cell_type": "code",
      "metadata": {
        "id": "ypFfVnjL0BlW"
      },
      "source": [
        "phones = {\n",
        "    \"Jake\": \"212-555-0305\",\n",
        "    \"Maria\": \"656-233-5555\",\n",
        "    \"John\": \"693-232-5776\",\n",
        "    \"Sophia\": \"415-794-3423\",\n",
        "}"
      ],
      "execution_count": null,
      "outputs": []
    },
    {
      "cell_type": "markdown",
      "metadata": {
        "id": "pdzUTIY70BlY"
      },
      "source": [
        "Let's say that we want to have more than one phone assigned to Jake. It is not possible to simply assign the value to a new number, as this will just replace the current phone. For example:"
      ]
    },
    {
      "cell_type": "code",
      "metadata": {
        "id": "h9PsMZjz0BlZ",
        "colab": {
          "base_uri": "https://localhost:8080/"
        },
        "outputId": "3e98b711-da6a-4d70-c48b-3f192d869915"
      },
      "source": [
        "phones[\"Jake\"] = \"917-888-4455\"\n",
        "phones"
      ],
      "execution_count": null,
      "outputs": [
        {
          "output_type": "execute_result",
          "data": {
            "text/plain": [
              "{'Jake': '917-888-4455',\n",
              " 'John': '693-232-5776',\n",
              " 'Maria': '656-233-5555',\n",
              " 'Sophia': '415-794-3423'}"
            ]
          },
          "metadata": {
            "tags": []
          },
          "execution_count": 2
        }
      ]
    },
    {
      "cell_type": "markdown",
      "metadata": {
        "id": "fL6SYkYc0Blb"
      },
      "source": [
        "You see that the phone number associated with `Jake` has the new phone \n",
        "(917-888-4455), and the old one (212-555-0305) has disappeared. So, how can we store multiple elements for the key `Jake`? Nested structures is the solution."
      ]
    },
    {
      "cell_type": "code",
      "metadata": {
        "id": "3PgYxIZXi0DM"
      },
      "source": [
        ""
      ],
      "execution_count": null,
      "outputs": []
    },
    {
      "cell_type": "markdown",
      "metadata": {
        "id": "h-LWYHhz0Blc"
      },
      "source": [
        "## Creating Nested Data Structures"
      ]
    },
    {
      "cell_type": "markdown",
      "metadata": {
        "id": "WqfLC-ix0Blc"
      },
      "source": [
        "What we can do instead is to have **a list** as value for the \"Jake\" key. So, for example, we can rewrite the dictionary as:"
      ]
    },
    {
      "cell_type": "code",
      "metadata": {
        "id": "BYu8r7lZ0Blc"
      },
      "source": [
        "phones = {\n",
        "    \"Jake\": [\"212-555-0305\", \"917-888-4455\"],\n",
        "    \"Maria\": [\"656-233-5555\"],\n",
        "    \"John\": [\"693-232-5776\"],\n",
        "    \"Sophia\": [\"415-794-3423\"]\n",
        "}"
      ],
      "execution_count": null,
      "outputs": []
    },
    {
      "cell_type": "markdown",
      "metadata": {
        "id": "IjsedlxK0Ble"
      },
      "source": [
        "And if we check the value for Jake, you will see that we get back a list:"
      ]
    },
    {
      "cell_type": "code",
      "metadata": {
        "id": "5S2XMUoT0Blf",
        "colab": {
          "base_uri": "https://localhost:8080/"
        },
        "outputId": "8fb7ec38-b7bf-48e1-9145-50d830c0b182"
      },
      "source": [
        "phones[\"Jake\"]"
      ],
      "execution_count": null,
      "outputs": [
        {
          "output_type": "execute_result",
          "data": {
            "text/plain": [
              "['212-555-0305', '917-888-4455']"
            ]
          },
          "metadata": {
            "tags": []
          },
          "execution_count": 4
        }
      ]
    },
    {
      "cell_type": "markdown",
      "metadata": {
        "id": "NByLrQcl0Blh"
      },
      "source": [
        "And then we can add and remove phones for each person:"
      ]
    },
    {
      "cell_type": "code",
      "metadata": {
        "id": "lpFD3o1I0Bli",
        "colab": {
          "base_uri": "https://localhost:8080/"
        },
        "outputId": "190148a2-e5d3-49b5-dfdb-3d1937365167"
      },
      "source": [
        "phones[\"Jake\"].append(\"800-929-2923\")\n",
        "phones[\"Sophia\"].append(\"343-342-5455\")\n",
        "phones[\"Sophia\"].append(\"343-656-8766\")\n",
        "phones[\"Sophia\"].pop(1)  # Remove the first phone for Sophia\n",
        "phones"
      ],
      "execution_count": null,
      "outputs": [
        {
          "output_type": "execute_result",
          "data": {
            "text/plain": [
              "{'Jake': ['212-555-0305', '917-888-4455', '800-929-2923'],\n",
              " 'John': ['693-232-5776'],\n",
              " 'Maria': ['656-233-5555'],\n",
              " 'Sophia': ['415-794-3423', '343-656-8766']}"
            ]
          },
          "metadata": {
            "tags": []
          },
          "execution_count": 5
        }
      ]
    },
    {
      "cell_type": "markdown",
      "metadata": {
        "id": "E0ghSA8B0Blk"
      },
      "source": [
        "Alternatively, instead of having a list, we can use a *dictionary* as a value for each key. For example, we can use key values \"Work\", \"Cell\", \"Home\", etc for each phone, and have something like:"
      ]
    },
    {
      "cell_type": "code",
      "metadata": {
        "id": "nbJlJvuo0Blk"
      },
      "source": [
        "phones = {\n",
        "    \"Jake\": {\"Work\": \"212-555-0305\", \"Cell\": \"917-888-4455\"},\n",
        "    \"Maria\": {\"Work\": \"656-233-5555\"},\n",
        "    \"John\": {\"Cell\": \"693-232-5776\"},\n",
        "    \"Sophia\": {\"Home\": \"415-794-3423\"},\n",
        "}"
      ],
      "execution_count": null,
      "outputs": []
    },
    {
      "cell_type": "code",
      "metadata": {
        "id": "cUcKHSIx0Blp",
        "colab": {
          "base_uri": "https://localhost:8080/"
        },
        "outputId": "05cb249c-c5ba-45ae-b40d-8585622609d3"
      },
      "source": [
        "phones"
      ],
      "execution_count": null,
      "outputs": [
        {
          "output_type": "execute_result",
          "data": {
            "text/plain": [
              "{'Jake': {'Cell': '917-888-4455', 'Work': '212-555-0305'},\n",
              " 'John': {'Cell': '693-232-5776'},\n",
              " 'Maria': {'Work': '656-233-5555'},\n",
              " 'Sophia': {'Home': '415-794-3423'}}"
            ]
          },
          "metadata": {
            "tags": []
          },
          "execution_count": 7
        }
      ]
    },
    {
      "cell_type": "markdown",
      "metadata": {
        "id": "VvqNotMx0Blr"
      },
      "source": [
        "## Accessing Data within Nested Structures\n",
        "\n"
      ]
    },
    {
      "cell_type": "markdown",
      "metadata": {
        "id": "erYLc6jf0Blr"
      },
      "source": [
        "To access the elements within complex structures, we combine bracket and indexing operators:"
      ]
    },
    {
      "cell_type": "code",
      "metadata": {
        "id": "Tn5VevjL0Bls"
      },
      "source": [
        "phones = {\n",
        "    \"Sophia\": [\"343-342-5455\", \"343-656-8766\"],\n",
        "    \"John\": [\"693-232-5776\"],\n",
        "    \"Maria\": [\"656-233-5555\"],\n",
        "    \"Jake\": [\"212-555-0305\", \"917-888-4455\", \"800-929-2923\"],\n",
        "}"
      ],
      "execution_count": null,
      "outputs": []
    },
    {
      "cell_type": "code",
      "metadata": {
        "id": "JL9YEYkOn1o9",
        "colab": {
          "base_uri": "https://localhost:8080/"
        },
        "outputId": "2b804660-3eb5-4d21-ae59-7034796fa263"
      },
      "source": [
        "phones[\"Jake\"]"
      ],
      "execution_count": null,
      "outputs": [
        {
          "output_type": "execute_result",
          "data": {
            "text/plain": [
              "['212-555-0305', '917-888-4455', '800-929-2923']"
            ]
          },
          "metadata": {
            "tags": []
          },
          "execution_count": 9
        }
      ]
    },
    {
      "cell_type": "markdown",
      "metadata": {
        "id": "YIhqqmYM0Blt"
      },
      "source": [
        "So, to access the phones for \"Jake\" we write "
      ]
    },
    {
      "cell_type": "code",
      "metadata": {
        "id": "nFLHZgjf0Blu",
        "colab": {
          "base_uri": "https://localhost:8080/"
        },
        "outputId": "8ddd0f36-3af7-40c4-92f6-6f5c47da072c"
      },
      "source": [
        "phones[\"Jake\"]"
      ],
      "execution_count": null,
      "outputs": [
        {
          "output_type": "execute_result",
          "data": {
            "text/plain": [
              "['212-555-0305', '917-888-4455', '800-929-2923']"
            ]
          },
          "metadata": {
            "tags": []
          },
          "execution_count": 10
        }
      ]
    },
    {
      "cell_type": "markdown",
      "metadata": {
        "id": "XbH4FbRY0Blw"
      },
      "source": [
        "or"
      ]
    },
    {
      "cell_type": "code",
      "metadata": {
        "id": "2Oq0Az5m0Blx",
        "colab": {
          "base_uri": "https://localhost:8080/"
        },
        "outputId": "7d04e2b8-1596-45c6-91a6-80ea9cddcc05"
      },
      "source": [
        "my_phones = phones.get(\"Jake\")\n",
        "my_phones"
      ],
      "execution_count": null,
      "outputs": [
        {
          "output_type": "execute_result",
          "data": {
            "text/plain": [
              "['212-555-0305', '917-888-4455', '800-929-2923']"
            ]
          },
          "metadata": {
            "tags": []
          },
          "execution_count": 11
        }
      ]
    },
    {
      "cell_type": "markdown",
      "metadata": {
        "id": "SWUVV9GC0Blz"
      },
      "source": [
        "Now, if we want to access the second phone on the returned list, we write:"
      ]
    },
    {
      "cell_type": "code",
      "metadata": {
        "id": "fgGXF9rM0Blz",
        "colab": {
          "base_uri": "https://localhost:8080/",
          "height": 34
        },
        "outputId": "f7a152f4-af68-476e-81e3-5a0f606f6535"
      },
      "source": [
        "phones[\"Jake\"][1]"
      ],
      "execution_count": null,
      "outputs": [
        {
          "output_type": "execute_result",
          "data": {
            "application/vnd.google.colaboratory.intrinsic+json": {
              "type": "string"
            },
            "text/plain": [
              "'917-888-4455'"
            ]
          },
          "metadata": {
            "tags": []
          },
          "execution_count": 12
        }
      ]
    },
    {
      "cell_type": "code",
      "metadata": {
        "id": "Ag3Zbf1T0Bl1",
        "colab": {
          "base_uri": "https://localhost:8080/",
          "height": 34
        },
        "outputId": "1727f4f5-c1eb-47c6-e966-92052c2e2ba4"
      },
      "source": [
        "phones.get(\"Jake\")[1]"
      ],
      "execution_count": null,
      "outputs": [
        {
          "output_type": "execute_result",
          "data": {
            "application/vnd.google.colaboratory.intrinsic+json": {
              "type": "string"
            },
            "text/plain": [
              "'917-888-4455'"
            ]
          },
          "metadata": {
            "tags": []
          },
          "execution_count": 13
        }
      ]
    },
    {
      "cell_type": "markdown",
      "metadata": {
        "id": "8uj15pRO0Bl3"
      },
      "source": [
        "Similarly, when we have a dictionary that contains dictionaries:"
      ]
    },
    {
      "cell_type": "code",
      "metadata": {
        "id": "BQwFAAVw0Bl4"
      },
      "source": [
        "phones = {\n",
        "    \"Jake\": {\"Work\": \"212-555-0305\", \"Cell\": \"917-888-4455\"},\n",
        "    \"Maria\": {\"Work\": \"656-233-5555\"},\n",
        "    \"John\": {\"Cell\": \"693-232-5776\"},\n",
        "    \"Sophia\": {\"Home\": \"415-794-3423\"},\n",
        "}"
      ],
      "execution_count": null,
      "outputs": []
    },
    {
      "cell_type": "code",
      "metadata": {
        "id": "HU757pU70Bl6",
        "colab": {
          "base_uri": "https://localhost:8080/",
          "height": 34
        },
        "outputId": "f834f5ef-473c-443b-f60b-381b68827f6c"
      },
      "source": [
        "phones[\"Jake\"][\"Work\"]"
      ],
      "execution_count": null,
      "outputs": [
        {
          "output_type": "execute_result",
          "data": {
            "application/vnd.google.colaboratory.intrinsic+json": {
              "type": "string"
            },
            "text/plain": [
              "'212-555-0305'"
            ]
          },
          "metadata": {
            "tags": []
          },
          "execution_count": 15
        }
      ]
    },
    {
      "cell_type": "markdown",
      "metadata": {
        "id": "mu6xvVeL0Bl7"
      },
      "source": [
        "Or when we have a list of dictionaries:"
      ]
    },
    {
      "cell_type": "code",
      "metadata": {
        "id": "YomjqzY30Bl8",
        "colab": {
          "base_uri": "https://localhost:8080/"
        },
        "outputId": "32ccd031-2116-48ca-bf2d-2b21faabe309"
      },
      "source": [
        "citibike_stations = [\n",
        "    {\n",
        "        \"station_id\": 72,\n",
        "        \"capacity\": 39,\n",
        "        \"coords\": {\"lon\": -73.9939, \"lat\": 40.7673},\n",
        "        \"name\": \"W 52 St & 11 Ave\",\n",
        "    },\n",
        "    {\n",
        "        \"station_id\": 79,\n",
        "        \"capacity\": 33,\n",
        "        \"coords\": {\"lon\": -74.0067, \"lat\": 40.7191},\n",
        "        \"name\": \"Franklin St & W Broadway\",\n",
        "    },\n",
        "    {\n",
        "        \"station_id\": 82,\n",
        "        \"capacity\": 27,\n",
        "        \"coords\": {\"lon\": -74.0002, \"lat\": 40.7673},\n",
        "        \"name\": \"St James Pl & Pearl St\",\n",
        "    },\n",
        "    {\n",
        "        \"station_id\": 83,\n",
        "        \"capacity\": 62,\n",
        "        \"coords\": {\"lon\": -73.9763, \"lat\": 40.6838},\n",
        "        \"name\": \"Atlantic Ave & Fort Greene Pl\",\n",
        "    },\n",
        "    {\n",
        "        \"station_id\": 116,\n",
        "        \"capacity\": 39,\n",
        "        \"coords\": {\"lon\": -74.0015, \"lat\": 40.7418},\n",
        "        \"name\": \"W 17 St & 8 Ave\",\n",
        "    },\n",
        "]\n",
        "type(citibike_stations)"
      ],
      "execution_count": null,
      "outputs": [
        {
          "output_type": "execute_result",
          "data": {
            "text/plain": [
              "list"
            ]
          },
          "metadata": {
            "tags": []
          },
          "execution_count": 16
        }
      ]
    },
    {
      "cell_type": "markdown",
      "metadata": {
        "id": "tik-BzLv0Bl-"
      },
      "source": [
        "To access the name of the first station:"
      ]
    },
    {
      "cell_type": "code",
      "metadata": {
        "id": "_c7vahKX0Bl-",
        "colab": {
          "base_uri": "https://localhost:8080/"
        },
        "outputId": "d250d72a-1750-4650-b56a-1176cd4c075d"
      },
      "source": [
        "# Returns the first station entry\n",
        "citibike_stations[0]"
      ],
      "execution_count": null,
      "outputs": [
        {
          "output_type": "execute_result",
          "data": {
            "text/plain": [
              "{'capacity': 39,\n",
              " 'coords': {'lat': 40.7673, 'lon': -73.9939},\n",
              " 'name': 'W 52 St & 11 Ave',\n",
              " 'station_id': 72}"
            ]
          },
          "metadata": {
            "tags": []
          },
          "execution_count": 17
        }
      ]
    },
    {
      "cell_type": "code",
      "metadata": {
        "id": "LEoGDeiL0BmA",
        "colab": {
          "base_uri": "https://localhost:8080/",
          "height": 34
        },
        "outputId": "ae55d361-15d3-4a9a-add2-cd8c23292f99"
      },
      "source": [
        "# Get the name for the first station\n",
        "citibike_stations[0][\"name\"]"
      ],
      "execution_count": null,
      "outputs": [
        {
          "output_type": "execute_result",
          "data": {
            "application/vnd.google.colaboratory.intrinsic+json": {
              "type": "string"
            },
            "text/plain": [
              "'W 52 St & 11 Ave'"
            ]
          },
          "metadata": {
            "tags": []
          },
          "execution_count": 18
        }
      ]
    },
    {
      "cell_type": "markdown",
      "metadata": {
        "id": "rO38YMuM0BmC"
      },
      "source": [
        "Or to access the coordinates:"
      ]
    },
    {
      "cell_type": "code",
      "metadata": {
        "id": "8Ywdz6l90BmC"
      },
      "source": [
        "citibike_stations[0][\"coords\"]"
      ],
      "execution_count": null,
      "outputs": []
    },
    {
      "cell_type": "markdown",
      "metadata": {
        "id": "Mkncp83v0BmE"
      },
      "source": [
        "And if we want to access the latitude, from the coordinates:"
      ]
    },
    {
      "cell_type": "code",
      "metadata": {
        "id": "aTT0COmz0BmF"
      },
      "source": [
        "citibike_stations[0][\"coords\"][\"lat\"]"
      ],
      "execution_count": null,
      "outputs": []
    },
    {
      "cell_type": "markdown",
      "metadata": {
        "id": "yrWSPu0V0BmG"
      },
      "source": [
        "## Exercise"
      ]
    },
    {
      "cell_type": "markdown",
      "metadata": {
        "id": "xS38Urae0BmH"
      },
      "source": [
        "You are given the following data structure.\n",
        "\n",
        "```python\n",
        "data = {\n",
        "    \"Jane\": {\n",
        "        \"Job\":\"Professor\", \n",
        "        \"YOB\": \"1976\", \n",
        "        \"Children\": [\"Mike\", \"Anne\"]\n",
        "    }, \n",
        "    \"Joe\": {\n",
        "        \"Job\":\"Data Scientist\", \n",
        "        \"YOB\": \"1981\"\n",
        "    }\n",
        "}\n",
        "```\n",
        "\n",
        "You need to write code that\n",
        "\n",
        "* Prints the job of Joe;\n",
        "* Prints the year of birth of Jane; \n",
        "* Prints the age of Jane;\n",
        "* Prints the children of Jane;\n",
        "* Prints the second child of Jane;\n",
        "* Prints the number of people _entries_ in the data. (Notice that it is much harder to find all the people in the data, eg the children);\n",
        "* Checks if Maria is in the data;\n",
        "* Checks if Anne is in the data (as a **key**);\n",
        "* Checks if Jane has children; \n",
        "* Checks if Joe has children. How can you handle the lack of the corresponding key? Would your code work when the list of children is empty, instead of missing?\n"
      ]
    },
    {
      "cell_type": "code",
      "metadata": {
        "id": "02giQN7q0BmH"
      },
      "source": [
        "data = {\n",
        "    \"Jane\": {\"Job\": \"Professor\", \"YOB\": \"1976\", \"Children\": [\"Mike\", \"Anne\"]},\n",
        "    \"Joe\": {\"Job\": \"Data Scientist\", \"YOB\": \"1981\"},\n",
        "}"
      ],
      "execution_count": null,
      "outputs": []
    },
    {
      "cell_type": "markdown",
      "metadata": {
        "solution2": "hidden",
        "solution2_first": true,
        "id": "ZSEmdR7G0Bmc"
      },
      "source": [
        "### Solution"
      ]
    },
    {
      "cell_type": "code",
      "metadata": {
        "id": "TLOD1Iuq0BmJ"
      },
      "source": [
        "# Your solution here"
      ],
      "execution_count": null,
      "outputs": []
    },
    {
      "cell_type": "code",
      "metadata": {
        "id": "NXZhu_TKwNn2"
      },
      "source": [
        ""
      ],
      "execution_count": null,
      "outputs": []
    },
    {
      "cell_type": "code",
      "metadata": {
        "id": "FGlWGhDkwNv9"
      },
      "source": [
        ""
      ],
      "execution_count": null,
      "outputs": []
    }
  ]
}