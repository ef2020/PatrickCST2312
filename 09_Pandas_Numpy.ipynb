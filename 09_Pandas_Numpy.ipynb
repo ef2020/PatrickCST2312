{
  "nbformat": 4,
  "nbformat_minor": 0,
  "metadata": {
    "colab": {
      "name": "09 Pandas Numpy.ipynb",
      "provenance": [],
      "authorship_tag": "ABX9TyOev5w4G0xuZWxekpnV50PV"
    },
    "kernelspec": {
      "name": "python3",
      "display_name": "Python 3"
    },
    "language_info": {
      "name": "python"
    }
  },
  "cells": [
    {
      "cell_type": "code",
      "metadata": {
        "id": "2j_s6e4TkblY"
      },
      "source": [
        ""
      ],
      "execution_count": null,
      "outputs": []
    },
    {
      "cell_type": "markdown",
      "metadata": {
        "id": "wClksvomZrQA"
      },
      "source": [
        "## [A Visual Intro to NumPy and Data Representation](https://jalammar.github.io/visual-numpy/?fbclid=IwAR2V1VrblG5tt_ejDTt9Hcd_CfE-Ym3BX5Mls6rVnZM8zHkpWY4ynWsZUvA)"
      ]
    },
    {
      "cell_type": "markdown",
      "metadata": {
        "id": "xGnYzClFZthy"
      },
      "source": [
        "The NumPy package is the workhorse of data analysis, machine learning, and scientific computing in the python ecosystem. It vastly simplifies manipulating and crunching vectors and matrices."
      ]
    },
    {
      "cell_type": "code",
      "metadata": {
        "id": "_zo587hKZHmH"
      },
      "source": [
        "import numpy as np"
      ],
      "execution_count": null,
      "outputs": []
    },
    {
      "cell_type": "code",
      "metadata": {
        "id": "zTeh-ROlaYxY"
      },
      "source": [
        "np.array([1,2,3])"
      ],
      "execution_count": null,
      "outputs": []
    },
    {
      "cell_type": "code",
      "metadata": {
        "id": "PmGY9qRLav7Y"
      },
      "source": [
        "np.ones(3)"
      ],
      "execution_count": null,
      "outputs": []
    },
    {
      "cell_type": "code",
      "metadata": {
        "id": "o1OWHgKMa3qI"
      },
      "source": [
        "data = np.array([1,2])\n",
        "ones = np.ones(2)"
      ],
      "execution_count": null,
      "outputs": []
    },
    {
      "cell_type": "code",
      "metadata": {
        "id": "JMJexkIWa_cv"
      },
      "source": [
        "data+ones"
      ],
      "execution_count": null,
      "outputs": []
    },
    {
      "cell_type": "markdown",
      "metadata": {
        "id": "OWfrlmXjbfbx"
      },
      "source": [
        "# [A Gentle Visual Intro to Data Analysis in Python Using Pandas](https://jalammar.github.io/gentle-visual-intro-to-data-analysis-python-pandas/)"
      ]
    },
    {
      "cell_type": "code",
      "metadata": {
        "id": "9LWyyZntbmEQ"
      },
      "source": [
        "import pandas as pd"
      ],
      "execution_count": null,
      "outputs": []
    },
    {
      "cell_type": "markdown",
      "metadata": {
        "id": "gvpuvJgybxyY"
      },
      "source": [
        "Pandas allows us to load a spreadsheet and manipulate it programmatically in python. The central concept in pandas is the type of object called a `DataFrame` – basically a table of values which has a label for each row and column.\n",
        "\n",
        "`DataFrames` in Python come with the Pandas library, and they are defined as two-dimensional labeled data structures with columns of potentially different types.\n",
        "\n",
        "Firstly, the DataFrame can contain data that is:\n",
        "\n",
        "* a Pandas `DataFrame`\n",
        "* a Pandas `Series`: a one-dimensional labeled array capable of holding any data type with axis labels or index. An example of a Series object is one column from a DataFrame.\n",
        "* a NumPy `ndarray`, which can be a record or structured\n",
        "* a two-dimensional `ndarray`\n",
        "* dictionaries of one-dimensional ndarray’s, lists, dictionaries or Series."
      ]
    }
  ]
}