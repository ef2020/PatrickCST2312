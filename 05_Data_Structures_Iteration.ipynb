{
  "nbformat": 4,
  "nbformat_minor": 0,
  "metadata": {
    "colab": {
      "name": "05 Data Structures Iteration.ipynb",
      "provenance": [],
      "authorship_tag": "ABX9TyPfpuYa8GWu4lLbDQwRyZZl"
    },
    "kernelspec": {
      "name": "python3",
      "display_name": "Python 3"
    },
    "language_info": {
      "name": "python"
    }
  },
  "cells": [
    {
      "cell_type": "markdown",
      "metadata": {
        "id": "ZTBqSTxixTOP"
      },
      "source": [
        "# **Reading** from the required textbook: ( [https://www.py4e.com/lessons/](https://www.py4e.com/lessons/))\n",
        "\n",
        "* [Dictionaries](https://www.py4e.com/lessons/dictionary) (Chapter 10)\n",
        "* [Tuples](https://www.py4e.com/lessons/tuples) (Chapter 11)"
      ]
    },
    {
      "cell_type": "markdown",
      "metadata": {
        "id": "UTCUt_0jxBOD"
      },
      "source": [
        "### Iterating over sets and tuples\n",
        "\n",
        "The process of iterating through sets and tuples is pretty much identical to the one for lists. Let's see a few examples."
      ]
    },
    {
      "cell_type": "code",
      "metadata": {
        "id": "zxUmqy8hQ4h4",
        "colab": {
          "base_uri": "https://localhost:8080/"
        },
        "outputId": "b28143ac-31ef-4571-b80b-c2d268938628"
      },
      "source": [
        "listA = [0,3,5,7]\n",
        "for b in listA:\n",
        "  print(b)"
      ],
      "execution_count": null,
      "outputs": [
        {
          "output_type": "stream",
          "text": [
            "0\n",
            "3\n",
            "5\n",
            "7\n"
          ],
          "name": "stdout"
        }
      ]
    },
    {
      "cell_type": "code",
      "metadata": {
        "id": "nvxjbOXexFNS"
      },
      "source": [
        "# Iterating over a set\n",
        "print(\"Print all numbers in the set, and their square\")\n",
        "set_a = {1, 2, 3, 4, 5, 6}\n",
        "for i in set_a:\n",
        "    print(i, \" squared is:\", i * i)"
      ],
      "execution_count": null,
      "outputs": []
    },
    {
      "cell_type": "code",
      "metadata": {
        "id": "clDcKhSzxJ2C",
        "colab": {
          "base_uri": "https://localhost:8080/"
        },
        "outputId": "a573663e-6c6b-443f-b32d-ab55d0393b4e"
      },
      "source": [
        "print(\"A more complex block: Only print squares of even numbers\")\n",
        "set_a = {1, 2, 3, 4, 5, 6}\n",
        "for i in set_a:\n",
        "    if i % 2 == 0:\n",
        "        print(\"==> \", i, \" squared is:\", i * i)"
      ],
      "execution_count": null,
      "outputs": [
        {
          "output_type": "stream",
          "text": [
            "A more complex block: Only print squares of even numbers\n",
            "==>  2  squared is: 4\n",
            "==>  4  squared is: 16\n",
            "==>  6  squared is: 36\n"
          ],
          "name": "stdout"
        }
      ]
    },
    {
      "cell_type": "code",
      "metadata": {
        "id": "nL4uodDoxMxK",
        "colab": {
          "base_uri": "https://localhost:8080/"
        },
        "outputId": "cd8315a2-cdee-45a8-c204-2cd73c28955a"
      },
      "source": [
        "# Iterating over a tuple\n",
        "print(\"Print all numbers in the tuple, and their square\")\n",
        "tuple_a = (1, 2, 3, 4, 5, 6)\n",
        "for i in tuple_a:\n",
        "    print(i, \" squared is:\", i * i)"
      ],
      "execution_count": null,
      "outputs": [
        {
          "output_type": "stream",
          "text": [
            "Print all numbers in the tuple, and their square\n",
            "1  squared is: 1\n",
            "2  squared is: 4\n",
            "3  squared is: 9\n",
            "4  squared is: 16\n",
            "5  squared is: 25\n",
            "6  squared is: 36\n"
          ],
          "name": "stdout"
        }
      ]
    },
    {
      "cell_type": "markdown",
      "metadata": {
        "id": "fwuW5sgvxOt6"
      },
      "source": [
        "### Iterating over dictionaries\n",
        "\n",
        "Iterating through dictionaries is a bit more complex. You can iterate through keys, values, or both.  \n",
        "\n",
        "Here is an dictionary, which we will use as an example. It contains names as keys, and phone numbers as corresponding values."
      ]
    },
    {
      "cell_type": "code",
      "metadata": {
        "id": "0zNxim2RVF4D"
      },
      "source": [
        "phones = {'Brian': '222-555-3344',\n",
        " 'Doug': '111-222-3344',\n",
        " 'Jake': '656-233-5555',\n",
        " 'John': '693-232-5776',\n",
        " 'Maria': '656-233-5555',\n",
        " 'Sophia': '415-794-3423'}"
      ],
      "execution_count": null,
      "outputs": []
    },
    {
      "cell_type": "markdown",
      "metadata": {
        "id": "u9_Fa2adxZbb"
      },
      "source": [
        "#### Iterating over keys\n",
        "\n",
        "By default, when we iterate over a dictionary, we are iterating over the keys."
      ]
    },
    {
      "cell_type": "code",
      "metadata": {
        "id": "8n3J0jcdxZ5S",
        "colab": {
          "base_uri": "https://localhost:8080/"
        },
        "outputId": "c0600c98-1fe1-4041-b162-f28d9d027873"
      },
      "source": [
        "print(\"Iterating over keys\")\n",
        "for k in phones:\n",
        "    print(\"key =\", k, \", value =\", phones[k])"
      ],
      "execution_count": null,
      "outputs": [
        {
          "output_type": "stream",
          "text": [
            "Iterating over keys\n",
            "key = Brian , value = 222-555-3344\n",
            "key = Doug , value = 111-222-3344\n",
            "key = Jake , value = 656-233-5555\n",
            "key = John , value = 693-232-5776\n",
            "key = Maria , value = 656-233-5555\n",
            "key = Sophia , value = 415-794-3423\n"
          ],
          "name": "stdout"
        }
      ]
    },
    {
      "cell_type": "code",
      "metadata": {
        "id": "pynPwOGVwzdb",
        "colab": {
          "base_uri": "https://localhost:8080/"
        },
        "outputId": "ba62c06b-17be-4939-c78d-434882eec0fd"
      },
      "source": [
        "print(\"Iterating over keys, more explicit\")\n",
        "for k in phones.keys():\n",
        "    print(\"key =\", k, \", value =\", phones[k])"
      ],
      "execution_count": null,
      "outputs": [
        {
          "output_type": "stream",
          "text": [
            "Iterating over keys, more explicit\n",
            "key = Brian , value = 222-555-3344\n",
            "key = Doug , value = 111-222-3344\n",
            "key = Jake , value = 656-233-5555\n",
            "key = John , value = 693-232-5776\n",
            "key = Maria , value = 656-233-5555\n",
            "key = Sophia , value = 415-794-3423\n"
          ],
          "name": "stdout"
        }
      ]
    },
    {
      "cell_type": "markdown",
      "metadata": {
        "id": "53CcVMHmxgVS"
      },
      "source": [
        "If you want to print the keys in alphabetical order, you first make a list of the keys in the dictionary using the keys method available in dictionary objects, and then sort that list and loop through the sorted list, looking up each key and printing out key-value pairs in sorted order as follows:"
      ]
    },
    {
      "cell_type": "code",
      "metadata": {
        "id": "fiO7MkMjxkBS",
        "colab": {
          "base_uri": "https://localhost:8080/"
        },
        "outputId": "5593dcbf-7c39-4297-83fe-d30c8858b145"
      },
      "source": [
        "print(\"Iterating over sorted keys\")\n",
        "sorted_keys = sorted(phones.keys())\n",
        "for k in sorted_keys:\n",
        "    print(\"key =\", k, \", value =\", phones[k])"
      ],
      "execution_count": null,
      "outputs": [
        {
          "output_type": "stream",
          "text": [
            "Iterating over sorted keys\n",
            "key = Brian , value = 222-555-3344\n",
            "key = Doug , value = 111-222-3344\n",
            "key = Jake , value = 656-233-5555\n",
            "key = John , value = 693-232-5776\n",
            "key = Maria , value = 656-233-5555\n",
            "key = Sophia , value = 415-794-3423\n"
          ],
          "name": "stdout"
        }
      ]
    },
    {
      "cell_type": "markdown",
      "metadata": {
        "id": "KxgvztxHxocL"
      },
      "source": [
        "#### Iterating over values\n",
        "\n",
        "It is also possible to iterate over the values for the dictionary:"
      ]
    },
    {
      "cell_type": "code",
      "metadata": {
        "id": "o7aexElMxrMi",
        "colab": {
          "base_uri": "https://localhost:8080/"
        },
        "outputId": "9a021435-c04d-4809-dafc-a80548b8a7ba"
      },
      "source": [
        "print(\"Iterating over values\")\n",
        "for v in phones.values():\n",
        "    print(v)\n",
        "    "
      ],
      "execution_count": null,
      "outputs": [
        {
          "output_type": "stream",
          "text": [
            "Iterating over values\n",
            "222-555-3344\n",
            "111-222-3344\n",
            "656-233-5555\n",
            "693-232-5776\n",
            "656-233-5555\n",
            "415-794-3423\n"
          ],
          "name": "stdout"
        }
      ]
    },
    {
      "cell_type": "markdown",
      "metadata": {
        "id": "SeVzma8Oxt2j"
      },
      "source": [
        "#### Iterating over key-value pairs\n",
        "\n",
        "Notice that when we iterate over the keys of a dictionary, we tend to use the `phones[k]` structure to get the value associated with the key `k`. "
      ]
    },
    {
      "cell_type": "code",
      "metadata": {
        "id": "rV4nrpGfxx9S",
        "colab": {
          "base_uri": "https://localhost:8080/"
        },
        "outputId": "c5bd1372-e5ae-492d-a2b4-854ead9738f7"
      },
      "source": [
        "print(\"Iterating over both keys and values\")\n",
        "# Items returns *tuples* that correspond to key-value pairs\n",
        "# (\"Jake\", \"656-233-5555\"), (\"Maria\": \"656-233-5555\"), etc.\n",
        "\n",
        "# Notice that we have a *tuple* (k,v) now as a loop variable, and the tuple\n",
        "# has two entries, the key k  and the value v\n",
        "for (k, v) in phones.items():\n",
        "    print(k, v)"
      ],
      "execution_count": null,
      "outputs": [
        {
          "output_type": "stream",
          "text": [
            "Iterating over both keys and values\n",
            "Brian 222-555-3344\n",
            "Doug 111-222-3344\n",
            "Jake 656-233-5555\n",
            "John 693-232-5776\n",
            "Maria 656-233-5555\n",
            "Sophia 415-794-3423\n"
          ],
          "name": "stdout"
        }
      ]
    },
    {
      "cell_type": "code",
      "metadata": {
        "id": "Mfk6_y91yCSJ",
        "colab": {
          "base_uri": "https://localhost:8080/"
        },
        "outputId": "e0290cee-8aba-468a-bb3a-0c660bfaa076"
      },
      "source": [
        "# If you are confused with the (k,v) being the loop variable\n",
        "# you can see the same loop where the loop variable is \"item\"\n",
        "# Then we access the two elements of the tuple within the body\n",
        "# of the loop name = item[0] and phone = item[1]\n",
        "for item in phones.items():\n",
        "    name = item[0]\n",
        "    phone = item[1]\n",
        "    print(\"Name:\", name, \"Phone:\", phone)"
      ],
      "execution_count": null,
      "outputs": [
        {
          "output_type": "stream",
          "text": [
            "Name: Brian Phone: 222-555-3344\n",
            "Name: Doug Phone: 111-222-3344\n",
            "Name: Jake Phone: 656-233-5555\n",
            "Name: John Phone: 693-232-5776\n",
            "Name: Maria Phone: 656-233-5555\n",
            "Name: Sophia Phone: 415-794-3423\n"
          ],
          "name": "stdout"
        }
      ]
    },
    {
      "cell_type": "code",
      "metadata": {
        "id": "RBUJE-SsWExL",
        "colab": {
          "base_uri": "https://localhost:8080/"
        },
        "outputId": "871b81ee-8b74-44c5-c333-4ba743ad36ac"
      },
      "source": [
        "for item in phones.items():\n",
        "    name = item[0]\n",
        "    phone = item[1][0]\n",
        "    print(\"Name:\", name, \"Phone:\", phone)"
      ],
      "execution_count": null,
      "outputs": [
        {
          "output_type": "stream",
          "text": [
            "Name: Brian Phone: 2\n",
            "Name: Doug Phone: 1\n",
            "Name: Jake Phone: 6\n",
            "Name: John Phone: 6\n",
            "Name: Maria Phone: 6\n",
            "Name: Sophia Phone: 4\n"
          ],
          "name": "stdout"
        }
      ]
    },
    {
      "cell_type": "markdown",
      "metadata": {
        "id": "DzfWGJ-XyJFa"
      },
      "source": [
        "## Exercise 1"
      ]
    },
    {
      "cell_type": "markdown",
      "metadata": {
        "id": "Z4o6K-dwyLRc"
      },
      "source": [
        "Let's work on an exercise now, showing how we can iterate through a nested data structure.\n",
        "\n",
        "You are given the composite data structure below:"
      ]
    },
    {
      "cell_type": "code",
      "metadata": {
        "id": "kjyBHBanyNuq"
      },
      "source": [
        "data = {\n",
        "    \"George\": {\n",
        "        \"Job\": \"Professor\",\n",
        "        \"YOB\": 1965,\n",
        "        \"Children\": [\"Hannah\"],\n",
        "        \"Awards\": [\"Best Teacher 2014\", \"Best Researcher 2015\"],\n",
        "        \"Salary\": 120000,\n",
        "    },\n",
        "    \"Joe\": {\"Job\": \"Data Scientist\", \"YOB\": 1981, \"Salary\": 200000},\n",
        "    \"Maria\": {\n",
        "        \"Job\": \"Software Engineer\",\n",
        "        \"YOB\": 1993,\n",
        "        \"Children\": [],\n",
        "        \"Awards\": [\n",
        "            \"Dean's List 2013\",\n",
        "            \"Valedictorian 2011\",\n",
        "            \"First place in Math Olympiad 2010\",\n",
        "        ],\n",
        "    },\n",
        "    \"Jane\": {\"Job\": \"Professor\", \"YOB\": 1976, \"Children\": [\"Mike\", \"Anne\"]},\n",
        "}"
      ],
      "execution_count": null,
      "outputs": []
    },
    {
      "cell_type": "markdown",
      "metadata": {
        "id": "Q_AAkvYWygeS"
      },
      "source": [
        "### Question 1:\n",
        "\n",
        "* Print the names of the people from the dictionary below, by iterating through the keys"
      ]
    },
    {
      "cell_type": "code",
      "metadata": {
        "id": "kAkpQDPyyn8M"
      },
      "source": [
        "## Print the names of people in the data"
      ],
      "execution_count": null,
      "outputs": []
    },
    {
      "cell_type": "markdown",
      "metadata": {
        "id": "Hwz3D5wZyogT"
      },
      "source": [
        "#### Solution"
      ]
    },
    {
      "cell_type": "code",
      "metadata": {
        "id": "keVumfUeyu70"
      },
      "source": [
        "# your code here"
      ],
      "execution_count": null,
      "outputs": []
    },
    {
      "cell_type": "markdown",
      "metadata": {
        "id": "ZXnCLrE4yzY7"
      },
      "source": [
        "### Question 2:\n",
        "\n",
        "* Print the age of each person, by iterating through the keys, and then looking up the \"YOB\" entry."
      ]
    },
    {
      "cell_type": "markdown",
      "metadata": {
        "id": "2cup38Yxy80C"
      },
      "source": [
        "#### Solution"
      ]
    },
    {
      "cell_type": "code",
      "metadata": {
        "id": "uAva8VhJzCbq"
      },
      "source": [
        "# your code here"
      ],
      "execution_count": null,
      "outputs": []
    },
    {
      "cell_type": "markdown",
      "metadata": {
        "id": "m71eZ1tuzHQs"
      },
      "source": [
        "### Question 3:\n",
        "\n",
        "* Print the names of people born after 1980"
      ]
    },
    {
      "cell_type": "code",
      "metadata": {
        "id": "PqontYQszIza"
      },
      "source": [
        "## Print the names of people born after 1980"
      ],
      "execution_count": null,
      "outputs": []
    },
    {
      "cell_type": "markdown",
      "metadata": {
        "id": "7cnN_cT5zMFK"
      },
      "source": [
        "#### Solution"
      ]
    },
    {
      "cell_type": "code",
      "metadata": {
        "id": "YEAZsqIAzK9q"
      },
      "source": [
        "# your code here"
      ],
      "execution_count": null,
      "outputs": []
    },
    {
      "cell_type": "markdown",
      "metadata": {
        "id": "MJ1Bhoh6zSFS"
      },
      "source": [
        "### Question 4:\n",
        "\n",
        "* Print the number of children for each person. You need to check if the \"Children\" list exists in the dictionary."
      ]
    },
    {
      "cell_type": "code",
      "metadata": {
        "id": "fpQEG0hhzUc7"
      },
      "source": [
        "## Print the number of children for each perspon"
      ],
      "execution_count": null,
      "outputs": []
    },
    {
      "cell_type": "markdown",
      "metadata": {
        "id": "i50ZbdbvzU5U"
      },
      "source": [
        "#### Solution"
      ]
    },
    {
      "cell_type": "code",
      "metadata": {
        "id": "nZqDgJIrzbYN"
      },
      "source": [
        "# your code here"
      ],
      "execution_count": null,
      "outputs": []
    }
  ]
}