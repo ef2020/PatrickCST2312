{
  "nbformat": 4,
  "nbformat_minor": 0,
  "metadata": {
    "colab": {
      "name": "03 Dictionaries.ipynb",
      "provenance": [],
      "authorship_tag": "ABX9TyNohaoyHREWIddwU7Aruie1"
    },
    "kernelspec": {
      "name": "python3",
      "display_name": "Python 3"
    },
    "language_info": {
      "name": "python"
    }
  },
  "cells": [
    {
      "cell_type": "markdown",
      "metadata": {
        "id": "Xv4MsTshtucG"
      },
      "source": [
        "# **Reading** from the required textbook: ( [https://www.py4e.com/lessons/](https://www.py4e.com/lessons/))\n",
        "\n",
        "[Dictionaries](https://www.py4e.com/lessons/dictionary) (Chapter 10)"
      ]
    },
    {
      "cell_type": "markdown",
      "metadata": {
        "id": "m_uUjf_jkacC"
      },
      "source": [
        "# Dictionaries"
      ]
    },
    {
      "cell_type": "markdown",
      "metadata": {
        "id": "6MqmyzEqkacD"
      },
      "source": [
        "Dictionaries are data structures containing key-value pairs. \n",
        "\n",
        "Dictionaries have a set of unique keys and are used to retrieve the value information associated with these keys. \n",
        "\n",
        "In Python, lists and tuples are organized and accessed based on position (index). Dictionaries in Python are organized and accessed using keys and values. The location of a pair of keys and values stored in a Python dictionary is irrelevant.\n",
        "\n",
        "For instance, a dictionary might be used to store:\n",
        "* for each user (the key), that user's location (the value), or \n",
        "* for each product id (the key), the description associated with that product (the value). \n",
        "\n",
        "Dictionaries are very common and are frequently used and encountered in practice. "
      ]
    },
    {
      "cell_type": "markdown",
      "metadata": {
        "heading_collapsed": true,
        "id": "F0fH11ZCkacE"
      },
      "source": [
        "## Creating Dictionaries"
      ]
    },
    {
      "cell_type": "markdown",
      "metadata": {
        "hidden": true,
        "id": "LzF1HFrZkacE"
      },
      "source": [
        "Dictionaries are specified by curly braces, `{ }`, containing zero or more comma-separated key-value pairs. In each key-value pair the keys and values are separated by a colon, `:`."
      ]
    },
    {
      "cell_type": "code",
      "metadata": {
        "hidden": true,
        "id": "dDNirTIUkacF",
        "colab": {
          "base_uri": "https://localhost:8080/"
        },
        "outputId": "a7c98040-a07d-4be8-fcf3-a81eae5156ca"
      },
      "source": [
        "# Dictionary with four key value pairs\n",
        "a_dict = {\"a\": 1, \"b\": 2, \"c\": 3, \"d\": 4}\n",
        "\n",
        "# The  a, b, c, d are keys\n",
        "# The 1, 2, 3, 4 are values\n",
        "print(a_dict)"
      ],
      "execution_count": null,
      "outputs": [
        {
          "output_type": "stream",
          "text": [
            "{'a': 1, 'b': 2, 'c': 3, 'd': 4}\n"
          ],
          "name": "stdout"
        }
      ]
    },
    {
      "cell_type": "markdown",
      "metadata": {
        "id": "LJbgXr9HlP1l"
      },
      "source": [
        "Let's store the ages of two people in a dictionary. The two people are Gabby and Michelle. Gabby is 8 and Michelle is 5. Note the name Gabby is a string and the age 8 is an integer."
      ]
    },
    {
      "cell_type": "code",
      "metadata": {
        "id": "oUZ96lhwlTZD",
        "colab": {
          "base_uri": "https://localhost:8080/"
        },
        "outputId": "e983ca70-99ec-44b2-f9af-1087575701a1"
      },
      "source": [
        "age_dict = {\"Gabby\": 8 , \"Michelle\": 5}\n",
        "type(age_dict)"
      ],
      "execution_count": null,
      "outputs": [
        {
          "output_type": "execute_result",
          "data": {
            "text/plain": [
              "dict"
            ]
          },
          "metadata": {
            "tags": []
          },
          "execution_count": 2
        }
      ]
    },
    {
      "cell_type": "code",
      "metadata": {
        "id": "q-GYruR6lWSk",
        "colab": {
          "base_uri": "https://localhost:8080/"
        },
        "outputId": "5901c3ad-3e7d-423c-a6f3-60448e17e9e3"
      },
      "source": [
        "age_dict"
      ],
      "execution_count": null,
      "outputs": [
        {
          "output_type": "execute_result",
          "data": {
            "text/plain": [
              "{'Gabby': 8, 'Michelle': 5}"
            ]
          },
          "metadata": {
            "tags": []
          },
          "execution_count": 3
        }
      ]
    },
    {
      "cell_type": "code",
      "metadata": {
        "hidden": true,
        "id": "IIuNSwJFkacJ",
        "colab": {
          "base_uri": "https://localhost:8080/"
        },
        "outputId": "8a149c17-96aa-4e08-fb66-5d533401618b"
      },
      "source": [
        "# A key cannot be repeated\n",
        "# See what happens when we repeat the key \"c\"\n",
        "a_dict = {\"a\": 1, \"b\": 2, \"c\": 3, \"d\": 4, \"c\": 4}\n",
        "print(a_dict)"
      ],
      "execution_count": null,
      "outputs": [
        {
          "output_type": "stream",
          "text": [
            "{'a': 1, 'b': 2, 'c': 4, 'd': 4}\n"
          ],
          "name": "stdout"
        }
      ]
    },
    {
      "cell_type": "markdown",
      "metadata": {
        "hidden": true,
        "id": "9x_TEiuokacL"
      },
      "source": [
        "Here is a more realistic dictionary. It contains three keys, \"Jake\", \"Maria\", and \"John\". Each of these keys has a value associated with it, which in the case below corresponds to a phone number."
      ]
    },
    {
      "cell_type": "code",
      "metadata": {
        "hidden": true,
        "id": "Q74fXKwYkacM",
        "colab": {
          "base_uri": "https://localhost:8080/"
        },
        "outputId": "89e8ed68-bad1-4165-c72e-b198a542facb"
      },
      "source": [
        "phones = {\n",
        "    \"Jake\": \"212-555-0305\",\n",
        "    \"Maria\": \"656-233-5555\",\n",
        "    \"John\": \"693-232-5776\",\n",
        "}\n",
        "\n",
        "print(phones)"
      ],
      "execution_count": null,
      "outputs": [
        {
          "output_type": "stream",
          "text": [
            "{'Jake': '212-555-0305', 'Maria': '656-233-5555', 'John': '693-232-5776'}\n"
          ],
          "name": "stdout"
        }
      ]
    },
    {
      "cell_type": "markdown",
      "metadata": {
        "hidden": true,
        "id": "UIX7QIC0kacO"
      },
      "source": [
        "And here is another dictionary, with three keys, \"ip\", \"logitude\", and \"latitude\", which capture an IP address and its geolocation."
      ]
    },
    {
      "cell_type": "code",
      "metadata": {
        "hidden": true,
        "id": "t56BW5ItkacP",
        "colab": {
          "base_uri": "https://localhost:8080/"
        },
        "outputId": "8b591e72-40ca-43a6-9638-ceadb2f41d48"
      },
      "source": [
        "geoip = {\"longitude\": -73.987839, \"latitude\": 40.695541, \"ip\": \"209.68.53.53\"}\n",
        "\n",
        "print(geoip)"
      ],
      "execution_count": null,
      "outputs": [
        {
          "output_type": "stream",
          "text": [
            "{'longitude': -73.987839, 'latitude': 40.695541, 'ip': '209.68.53.53'}\n"
          ],
          "name": "stdout"
        }
      ]
    },
    {
      "cell_type": "markdown",
      "metadata": {
        "heading_collapsed": true,
        "id": "i42F-ZH4kacU"
      },
      "source": [
        "## Accessing Dictionary Elements"
      ]
    },
    {
      "cell_type": "markdown",
      "metadata": {
        "hidden": true,
        "id": "SgkjadxskacV"
      },
      "source": [
        "To access elements in the dictionary we use the key in brackets, or the `get()` command, as follows:"
      ]
    },
    {
      "cell_type": "code",
      "metadata": {
        "hidden": true,
        "id": "UN0HYA6qkacV",
        "colab": {
          "base_uri": "https://localhost:8080/"
        },
        "outputId": "2165ff23-8113-4b37-cac9-018b289facb2"
      },
      "source": [
        "print(geoip[\"ip\"])"
      ],
      "execution_count": null,
      "outputs": [
        {
          "output_type": "stream",
          "text": [
            "209.68.53.53\n"
          ],
          "name": "stdout"
        }
      ]
    },
    {
      "cell_type": "code",
      "metadata": {
        "hidden": true,
        "id": "yPdKhbevkacY",
        "colab": {
          "base_uri": "https://localhost:8080/"
        },
        "outputId": "f48fb7e7-5d06-41fa-eba1-87276b2b8336"
      },
      "source": [
        "# or, alternatively\n",
        "print(geoip.get(\"ip\"))"
      ],
      "execution_count": null,
      "outputs": [
        {
          "output_type": "stream",
          "text": [
            "209.68.53.53\n"
          ],
          "name": "stdout"
        }
      ]
    },
    {
      "cell_type": "code",
      "metadata": {
        "hidden": true,
        "id": "9vL_KqTwkacb",
        "colab": {
          "base_uri": "https://localhost:8080/"
        },
        "outputId": "cfdcaf63-85b7-42ed-fd25-1f7698d7c720"
      },
      "source": [
        "print(phones[\"Jake\"])"
      ],
      "execution_count": null,
      "outputs": [
        {
          "output_type": "stream",
          "text": [
            "212-555-0305\n"
          ],
          "name": "stdout"
        }
      ]
    },
    {
      "cell_type": "code",
      "metadata": {
        "hidden": true,
        "id": "rk01TTlpkace",
        "colab": {
          "base_uri": "https://localhost:8080/"
        },
        "outputId": "3501f8af-1617-4494-d10b-509abeb3875a"
      },
      "source": [
        "# or, alternatively\n",
        "print(phones.get(\"Jake\"))"
      ],
      "execution_count": null,
      "outputs": [
        {
          "output_type": "stream",
          "text": [
            "212-555-0305\n"
          ],
          "name": "stdout"
        }
      ]
    },
    {
      "cell_type": "markdown",
      "metadata": {
        "hidden": true,
        "id": "5IsFdBlhkacg"
      },
      "source": [
        "### Adding new entries, updating existing ones, deleting entries\n",
        "\n",
        "We can add an entry in the dictionary by assigning a value to a particular key. If the key already exists, the value assigned to that key gets updatd."
      ]
    },
    {
      "cell_type": "code",
      "metadata": {
        "hidden": true,
        "id": "Xiusni1ckach",
        "colab": {
          "base_uri": "https://localhost:8080/"
        },
        "outputId": "aa818c8e-5a27-4bdd-99dd-7290b433c8f0"
      },
      "source": [
        "# Add a new key, \"isp\", with value \"City University or New York\"\n",
        "geoip[\"isp\"] = \"City University or New York\"\n",
        "print(geoip)"
      ],
      "execution_count": null,
      "outputs": [
        {
          "output_type": "stream",
          "text": [
            "{'longitude': -73.987839, 'latitude': 40.695541, 'ip': '209.68.53.53', 'isp': 'City University or New York'}\n"
          ],
          "name": "stdout"
        }
      ]
    },
    {
      "cell_type": "code",
      "metadata": {
        "id": "GSmYrJCTd2nr"
      },
      "source": [
        "print(phones)"
      ],
      "execution_count": null,
      "outputs": []
    },
    {
      "cell_type": "code",
      "metadata": {
        "hidden": true,
        "id": "XAAvqQqOkacj",
        "colab": {
          "base_uri": "https://localhost:8080/"
        },
        "outputId": "7f248e82-86b6-4038-b3f7-d84788b48e25"
      },
      "source": [
        "# Update the value for \"John\"\n",
        "phones[\"John\"] = \"415-794-3423\"\n",
        "# Add a new key, \"Patrick\", and the corresponding value\n",
        "phones[\"Patrick\"] = \"212-555-0305\"\n",
        "print(phones)"
      ],
      "execution_count": null,
      "outputs": [
        {
          "output_type": "stream",
          "text": [
            "{'Jake': '212-555-0305', 'Maria': '656-233-5555', 'John': '415-794-3423', 'Patrick': '212-555-0305'}\n"
          ],
          "name": "stdout"
        }
      ]
    },
    {
      "cell_type": "markdown",
      "metadata": {
        "hidden": true,
        "id": "d2JUH3ufkacl"
      },
      "source": [
        "If we want to remove a key `x` from the dictionary, the command `dict.pop(x)` removes the key `x` and its associated value from the dictionary"
      ]
    },
    {
      "cell_type": "code",
      "metadata": {
        "hidden": true,
        "id": "Z8jqQWAYkacm",
        "colab": {
          "base_uri": "https://localhost:8080/"
        },
        "outputId": "7e88f645-6a57-4e7b-b928-84c70e16a01e"
      },
      "source": [
        "# Remove John from the phones dictionary\n",
        "phones.pop(\"John\")\n",
        "print(phones)"
      ],
      "execution_count": null,
      "outputs": [
        {
          "output_type": "stream",
          "text": [
            "{'Jake': '212-555-0305', 'Maria': '656-233-5555', 'Patrick': '212-555-0305'}\n"
          ],
          "name": "stdout"
        }
      ]
    },
    {
      "cell_type": "markdown",
      "metadata": {
        "heading_collapsed": true,
        "id": "xowihmzPkaco"
      },
      "source": [
        "## Checking if a key appears in a dictionary\n",
        "\n"
      ]
    },
    {
      "cell_type": "markdown",
      "metadata": {
        "hidden": true,
        "id": "o-WzxqIGkacp"
      },
      "source": [
        "Like the set, the easiest way to check if a particular **key** is in a dictionary is through the `in` keyword:"
      ]
    },
    {
      "cell_type": "code",
      "metadata": {
        "hidden": true,
        "id": "70IlNULSkacp",
        "colab": {
          "base_uri": "https://localhost:8080/"
        },
        "outputId": "f0e7bc2e-b2f5-4f86-a231-7defe0d62f3a"
      },
      "source": [
        "\"Jake\" in phones"
      ],
      "execution_count": null,
      "outputs": [
        {
          "output_type": "execute_result",
          "data": {
            "text/plain": [
              "True"
            ]
          },
          "metadata": {
            "tags": []
          },
          "execution_count": 14
        }
      ]
    },
    {
      "cell_type": "code",
      "metadata": {
        "hidden": true,
        "id": "C-IeLvn0kacs",
        "colab": {
          "base_uri": "https://localhost:8080/"
        },
        "outputId": "08d3f68c-ecde-4b12-b97a-38ed293164b4"
      },
      "source": [
        "\"Jose\" in phones"
      ],
      "execution_count": null,
      "outputs": [
        {
          "output_type": "execute_result",
          "data": {
            "text/plain": [
              "False"
            ]
          },
          "metadata": {
            "tags": []
          },
          "execution_count": 15
        }
      ]
    },
    {
      "cell_type": "markdown",
      "metadata": {
        "hidden": true,
        "id": "ZvyvFcjwkacu"
      },
      "source": [
        "Notice that the `in` will not work if we try to find a value in the dictionary."
      ]
    },
    {
      "cell_type": "code",
      "metadata": {
        "hidden": true,
        "id": "AVqYy6_Xkacv",
        "colab": {
          "base_uri": "https://localhost:8080/"
        },
        "outputId": "c279db85-c0ba-400e-e350-89fe0aa17890"
      },
      "source": [
        "# The in does *not* work for values\n",
        "\"212-555-0305\" in phones"
      ],
      "execution_count": null,
      "outputs": [
        {
          "output_type": "execute_result",
          "data": {
            "text/plain": [
              "False"
            ]
          },
          "metadata": {
            "tags": []
          },
          "execution_count": 16
        }
      ]
    },
    {
      "cell_type": "markdown",
      "metadata": {
        "heading_collapsed": true,
        "id": "qtCadV5gkacx"
      },
      "source": [
        "## Accessing keys and values"
      ]
    },
    {
      "cell_type": "markdown",
      "metadata": {
        "hidden": true,
        "id": "94wl50Gikacx"
      },
      "source": [
        "Some common operations on dictionaries:\n",
        "\n",
        "+ `dict.keys()`: returns a list containing the keys of a dictionary\n",
        "+ `dict.values()`: returns a list containing the values in a dictionary"
      ]
    },
    {
      "cell_type": "code",
      "metadata": {
        "hidden": true,
        "id": "SFKEJ37Kkacy"
      },
      "source": [
        "phones = {\n",
        "    \"Jake\": \"212-555-0305\",\n",
        "    \"Maria\": \"656-233-5555\",\n",
        "    \"John\": \"693-232-5776\",\n",
        "    \"Sophia\": \"415-794-3423\",\n",
        "}"
      ],
      "execution_count": null,
      "outputs": []
    },
    {
      "cell_type": "code",
      "metadata": {
        "hidden": true,
        "id": "P532flookac1"
      },
      "source": [
        "phones.keys()"
      ],
      "execution_count": null,
      "outputs": []
    },
    {
      "cell_type": "code",
      "metadata": {
        "hidden": true,
        "id": "0Bl5pH1Kkac4"
      },
      "source": [
        "sorted(phones.keys())"
      ],
      "execution_count": null,
      "outputs": []
    },
    {
      "cell_type": "code",
      "metadata": {
        "hidden": true,
        "id": "fIcZYfk-kac7"
      },
      "source": [
        "phones.values()"
      ],
      "execution_count": null,
      "outputs": []
    },
    {
      "cell_type": "markdown",
      "metadata": {
        "heading_collapsed": true,
        "id": "9JGKnsSdkac9"
      },
      "source": [
        "## Exercise\n",
        "\n"
      ]
    },
    {
      "cell_type": "markdown",
      "metadata": {
        "hidden": true,
        "id": "35efYL_8kac9"
      },
      "source": [
        "* Find the common keys in `a_dict` and `b_dict`\n",
        "* Find the common values in `a_dict` and `b_dict` \n"
      ]
    },
    {
      "cell_type": "code",
      "metadata": {
        "hidden": true,
        "id": "PR4ruRKOkac-"
      },
      "source": [
        "a_dict = {\"a\": 5, \"b\": 5, \"c\": 3, \"c\": 4}\n",
        "b_dict = {\"c\": 5, \"d\": 6}\n",
        "\n"
      ],
      "execution_count": null,
      "outputs": []
    },
    {
      "cell_type": "markdown",
      "metadata": {
        "hidden": true,
        "solution2": "hidden",
        "solution2_first": true,
        "id": "fDivcbwSkadB"
      },
      "source": [
        "### Solution"
      ]
    },
    {
      "cell_type": "code",
      "metadata": {
        "hidden": true,
        "solution2": "hidden",
        "id": "BcBjztBPkadW"
      },
      "source": [
        "# your solution here"
      ],
      "execution_count": null,
      "outputs": []
    }
  ]
}